{
 "cells": [
  {
   "cell_type": "code",
   "execution_count": 2,
   "metadata": {},
   "outputs": [
    {
     "ename": "ImportError",
     "evalue": "cannot import name 'ExtractData'",
     "output_type": "error",
     "traceback": [
      "\u001b[0;31m---------------------------------------------------------------------------\u001b[0m",
      "\u001b[0;31mImportError\u001b[0m                               Traceback (most recent call last)",
      "\u001b[0;32m<ipython-input-2-ca6084646576>\u001b[0m in \u001b[0;36m<module>\u001b[0;34m()\u001b[0m\n\u001b[1;32m      3\u001b[0m \u001b[0;32mimport\u001b[0m \u001b[0mcopy\u001b[0m\u001b[0;34m\u001b[0m\u001b[0m\n\u001b[1;32m      4\u001b[0m \u001b[0;34m\u001b[0m\u001b[0m\n\u001b[0;32m----> 5\u001b[0;31m \u001b[0;32mfrom\u001b[0m \u001b[0mExtractDataFunctions\u001b[0m \u001b[0;32mimport\u001b[0m \u001b[0mExtractData\u001b[0m\u001b[0;34m\u001b[0m\u001b[0m\n\u001b[0m",
      "\u001b[0;31mImportError\u001b[0m: cannot import name 'ExtractData'"
     ]
    }
   ],
   "source": [
    "import pandas as pd\n",
    "import numpy as np \n",
    "import copy\n",
    "\n",
    "from ExtractDataFunctions import ExtractData"
   ]
  },
  {
   "cell_type": "code",
   "execution_count": null,
   "metadata": {},
   "outputs": [],
   "source": [
    "#Receive GUI Inputs\n",
    "filename = 'AccelerometerActualData.csv'\n",
    "filename = 'AccelerometerActualDataEdited.csv'\n",
    "\n",
    "#Receive\n",
    "A2DResolution = 16\n",
    "VoltageMax = 5\n",
    "VoltageMin = 0\n",
    "\n",
    "#System Constants\n",
    "AccelerationMax = 50 \n",
    "AccelerationMin = -50\n",
    "\n",
    "#Calculated System Constants\n",
    "VoltageRange = VoltageMax - VoltageMin\n",
    "VoltageQuantizedStep = VoltageRange / 2**A2DResolution\n",
    "AccelerationRange = AccelerationMax - AccelerationMin\n",
    "AccelerationQuantizedStep = AccelerationRange / VoltageRange"
   ]
  },
  {
   "cell_type": "code",
   "execution_count": null,
   "metadata": {},
   "outputs": [],
   "source": [
    "time, amp, Voltage, Acceleration = ExtractData(filename,VoltageQuantizedStep,AccelerationQuantizedStep)"
   ]
  },
  {
   "cell_type": "code",
   "execution_count": null,
   "metadata": {},
   "outputs": [],
   "source": [
    "print(Voltage[0][8])"
   ]
  },
  {
   "cell_type": "code",
   "execution_count": null,
   "metadata": {},
   "outputs": [],
   "source": [
    "x = {'0':amp[0],'1':amp[1],'2':amp[2],'3':amp[3],'4':amp[4]}\n",
    "x1 = {'0':Voltage[0],'1':Voltage[1],'2':Voltage[2],'3':Voltage[3],'4':Voltage[4]}\n",
    "x2 = {'0':Acceleration[0],'1':Acceleration[1],'2':Acceleration[2],'3':Acceleration[3],'4':Acceleration[4]}\n",
    "print(x)\n",
    "print(x1)\n",
    "print(x2)\n",
    "print(x2['0'][2])"
   ]
  },
  {
   "cell_type": "code",
   "execution_count": null,
   "metadata": {},
   "outputs": [],
   "source": [
    "def UpdateNamedPlot(X,Y,xlabel= None,ylabel= None,Title= None ,FigureName = None):\n",
    "    \"\"\"\n",
    "    Subfunction of getGraphs\n",
    "    Returns a figure\n",
    "    \n",
    "    UpdatedNamedPlot(\n",
    "        X - Data for independent variable\n",
    "        Y - Data for dependent variable\n",
    "        xlabel - X-axis label\n",
    "        ylabel - Y-axis label\n",
    "        Title - Title of figure\n",
    "        FigureName - String of the Figure Handle Name\n",
    "        )\n",
    "    \n",
    "    Performs plt.plot\n",
    "    \"\"\"\n",
    "    \n",
    "    #Plot\n",
    "    plt.figure(FigureName)\n",
    "    plt.grid(True)\n",
    "    plt.plot(X,Y,c = np.random.rand(3,))\n",
    "    \n",
    "    if xlabel != None:\n",
    "        plt.xlabel(xlabel, fontsize=12)\n",
    "    if ylabel != None:\n",
    "        plt.ylabel(ylabel, fontsize=12)\n",
    "    if Title != None:\n",
    "        plt.title(Title)\n",
    "    \n",
    "    \n",
    "    return True"
   ]
  },
  {
   "cell_type": "code",
   "execution_count": null,
   "metadata": {},
   "outputs": [],
   "source": [
    "def getGraphs(UserInput):\n",
    "    \"\"\"\n",
    "    Returns an array of figures\n",
    "    \n",
    "    getGraphs(\n",
    "        UserInput - Dictionary of relevant info (see UserInputs2WorkingForm)\n",
    "        )\n",
    "    \n",
    "    This function generates a figures for:\n",
    "    Raw time series\n",
    "    Time series with no DC offset\n",
    "    FFT\n",
    "    PSD\n",
    "    Correlation\n",
    "    \"\"\"\n",
    "    #Create time series array\n",
    "    t = np.arange(0,UserInput['Time of Sampling'],1/UserInput['Sampling Frequency'])\n",
    "    \n",
    "    #Perform FFT, PSD, Correlation, DC Offset\n",
    "    UserInput1 = RemoveDCOffset(UserInput)\n",
    "    UserInput2 = Normalize(UserInput1)\n",
    "    x1 = FourierTransform(UserInput2)\n",
    "    x2 = get_psd_values(UserInput2)\n",
    "    x3 = get_autocorr_values(UserInput2)\n",
    "    \n",
    "    \n",
    "    #Get Figures\n",
    "    figs = []\n",
    "    figs.append(getPlot(t,UserInput['Signal Data of Interest'],\"time (s)\",\"Amplitude\",\"Raw Data\"))\n",
    "    figs.append(getPlot(t,UserInput1['Signal Data of Interest'],\"time (s)\",\"Amplitude\",\"Raw Data w/ Removed DC Offset\"))\n",
    "    figs.append(getPlot(t,UserInput2['Signal Data of Interest'],\"time (s)\",\"Amplitude\",\"Normalized Raw Data\"))\n",
    "    figs.append(getPlot(x1['Frequency'],x1['Freq. Amp.'],'Frequency [Hz]',\"time (s)\",\"FFT\"))\n",
    "    figs.append(getPlot(x2['Frequency'],x2['PSD'],'Frequency [Hz]','PSD [V**2 / Hz]',\"PSD\"))\n",
    "    figs.append(getPlot(x3['X Values'],x3['Autocorr Values'],'time delay [s]',\"Autocorrelation amplitude\",\"Autocorrelation\"))\n",
    "\n",
    "    return figs"
   ]
  },
  {
   "cell_type": "code",
   "execution_count": null,
   "metadata": {},
   "outputs": [],
   "source": [
    "import matplotlib.pyplot as plt\n",
    "\n",
    "t = [i for i in range(10)]\n",
    "blank = [i for i in range(90)]\n",
    "print(t)\n",
    "y = [10 for i in range(10)]"
   ]
  },
  {
   "cell_type": "code",
   "execution_count": null,
   "metadata": {},
   "outputs": [],
   "source": [
    "UpdateNamedPlot(t,y,\"xlabel\",\"ylabel\",\"Title\",\"Test1\")"
   ]
  },
  {
   "cell_type": "code",
   "execution_count": null,
   "metadata": {},
   "outputs": [],
   "source": [
    "UpdateNamedPlot(t,y,\"Xlable\",FigureName = \"Test1\")"
   ]
  },
  {
   "cell_type": "code",
   "execution_count": null,
   "metadata": {},
   "outputs": [],
   "source": [
    "plt.figure(\"1\")\n",
    "plt.figure(\"2\")\n",
    "\n",
    "plt.plot(blank,blank,c = np.random.rand(3,))\n",
    "plt.xlabel(\"xlabel\", fontsize=12)\n",
    "plt.ylabel('ylabel', fontsize=12)\n",
    "plt.title('Title')\n",
    "plt.grid(True)"
   ]
  },
  {
   "cell_type": "code",
   "execution_count": null,
   "metadata": {},
   "outputs": [],
   "source": [
    "plt.figure(\"1\")\n",
    "plt.plot(blank,blank,c = np.random.rand(3,))\n",
    "plt.xlabel(\"xlabel\", fontsize=12)\n",
    "plt.ylabel('ylabel', fontsize=12)\n",
    "plt.title('Title')\n",
    "plt.grid(True)"
   ]
  },
  {
   "cell_type": "code",
   "execution_count": null,
   "metadata": {},
   "outputs": [],
   "source": [
    "plt.figure(\"1\").draw\n",
    "plt.figure(\"2\").draw"
   ]
  },
  {
   "cell_type": "code",
   "execution_count": null,
   "metadata": {},
   "outputs": [],
   "source": [
    "plt.figure('1')\n",
    "plt.plot(t,y)"
   ]
  },
  {
   "cell_type": "code",
   "execution_count": null,
   "metadata": {},
   "outputs": [],
   "source": [
    "fig"
   ]
  },
  {
   "cell_type": "code",
   "execution_count": null,
   "metadata": {},
   "outputs": [],
   "source": [
    "plt.figure('2')\n",
    "plt.plot(t,y)"
   ]
  },
  {
   "cell_type": "code",
   "execution_count": null,
   "metadata": {},
   "outputs": [],
   "source": [
    "fig\n",
    "fig2"
   ]
  },
  {
   "cell_type": "code",
   "execution_count": null,
   "metadata": {},
   "outputs": [],
   "source": []
  }
 ],
 "metadata": {
  "kernelspec": {
   "display_name": "Python 3",
   "language": "python",
   "name": "python3"
  },
  "language_info": {
   "codemirror_mode": {
    "name": "ipython",
    "version": 3
   },
   "file_extension": ".py",
   "mimetype": "text/x-python",
   "name": "python",
   "nbconvert_exporter": "python",
   "pygments_lexer": "ipython3",
   "version": "3.6.5"
  }
 },
 "nbformat": 4,
 "nbformat_minor": 2
}
